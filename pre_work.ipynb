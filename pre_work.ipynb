{
 "cells": [
  {
   "cell_type": "code",
   "execution_count": 1,
   "metadata": {},
   "outputs": [],
   "source": [
    "from rubik_cubes import Rubik, rubik_corner, rubik_edge\n",
    "from main import scramble"
   ]
  },
  {
   "cell_type": "code",
   "execution_count": 2,
   "metadata": {},
   "outputs": [],
   "source": [
    "rubik = Rubik()"
   ]
  },
  {
   "cell_type": "code",
   "execution_count": 3,
   "metadata": {},
   "outputs": [
    {
     "name": "stdout",
     "output_type": "stream",
     "text": [
      "coins:\n",
      "\t4  1\t8  5\n",
      "\t U\t D\n",
      "\t3  2\t7  6\n",
      "aretes:\n",
      "    1        8  5        9\n",
      "   4  2                12  10\n",
      "    3        7  6        11\n",
      "\n"
     ]
    }
   ],
   "source": [
    "print(rubik)"
   ]
  },
  {
   "cell_type": "code",
   "execution_count": 21,
   "metadata": {},
   "outputs": [],
   "source": [
    "def precalc_h1(self):\n",
    "    \"\"\"\n",
    "    {index : {cube: cout}}\n",
    "    \"\"\"\n",
    "    self.h1_dist = {}\n",
    "    for i in range(1, 13):\n",
    "        self.h1_dist[i] = {}\n",
    "        for j in range(1, 13):\n",
    "            if i not in [5, 6, 7, 8] and j not in [5, 6, 7, 8]:\n",
    "                self.h1_dist[i][j] = 0\n",
    "            elif i in [5, 6, 7, 8] and j in [5, 6, 7, 8]:\n",
    "                self.h1_dist[i][j] = 0\n",
    "            else:\n",
    "                self.h1_dist[i][j] = 2\n",
    "\n",
    "def heuristic_h1(self, obj):\n",
    "    tot = 0\n",
    "    for elem in self.corners.values():\n",
    "        if elem.orientation != 0:\n",
    "            tot += 1\n",
    "    for index in self.edges:\n",
    "        tot += self.edges[index].orientation\n",
    "        tot += self.h1_dist[index][obj.edges[index].final_position]\n",
    "    return tot / 8"
   ]
  },
  {
   "cell_type": "code",
   "execution_count": 23,
   "metadata": {},
   "outputs": [
    {
     "data": {
      "text/plain": [
       "2.0"
      ]
     },
     "execution_count": 23,
     "metadata": {},
     "output_type": "execute_result"
    }
   ],
   "source": [
    "rubik = Rubik()\n",
    "precalc_h1(rubik)\n",
    "scramble(\"U R2 L2 U' F\", rubik)\n",
    "heuristic_h1(rubik, rubik)"
   ]
  },
  {
   "cell_type": "code",
   "execution_count": 18,
   "metadata": {},
   "outputs": [],
   "source": [
    "l = [i for i in range(1, 13)]\n",
    "d = {i: i* 10 for i in range(1, 13)}"
   ]
  },
  {
   "cell_type": "code",
   "execution_count": 19,
   "metadata": {},
   "outputs": [],
   "source": [
    "import time"
   ]
  },
  {
   "cell_type": "code",
   "execution_count": 21,
   "metadata": {},
   "outputs": [
    {
     "name": "stdout",
     "output_type": "stream",
     "text": [
      "1.591399908065796\n"
     ]
    }
   ],
   "source": [
    "start = time.time()\n",
    "for i in range(0, 1000000):\n",
    "    for j in range(0, 12):\n",
    "        test = l[j]\n",
    "print(time.time() - start)"
   ]
  },
  {
   "cell_type": "code",
   "execution_count": null,
   "metadata": {},
   "outputs": [],
   "source": []
  }
 ],
 "metadata": {
  "kernelspec": {
   "display_name": "Python 3",
   "language": "python",
   "name": "python3"
  },
  "language_info": {
   "codemirror_mode": {
    "name": "ipython",
    "version": 3
   },
   "file_extension": ".py",
   "mimetype": "text/x-python",
   "name": "python",
   "nbconvert_exporter": "python",
   "pygments_lexer": "ipython3",
   "version": "3.7.1"
  }
 },
 "nbformat": 4,
 "nbformat_minor": 2
}
