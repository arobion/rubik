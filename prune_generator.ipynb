{
 "cells": [
  {
   "cell_type": "code",
   "execution_count": 5,
   "metadata": {},
   "outputs": [],
   "source": [
    "from rubik_cubes import Rubik, rubik_corner, rubik_edge\n",
    "from rubik_state import rubik_state\n",
    "from rubik_next import get_nexts_2"
   ]
  },
  {
   "cell_type": "code",
   "execution_count": 48,
   "metadata": {},
   "outputs": [],
   "source": [
    "def compress_state(state):\n",
    "    compressed = 0\n",
    "    # first compress corners place\n",
    "    for i in range(1, 9):\n",
    "        compressed <<= 3\n",
    "        compressed |= state.corners[i].final_position\n",
    "    # compress corners orientation\n",
    "    for i in range(1, 9):\n",
    "        compressed <<= 2\n",
    "        compressed |= state.corners[i].orientation\n",
    "    # compress edges place\n",
    "    for i in range(1, 13):\n",
    "        compressed <<= 4\n",
    "        compressed |= state.edges[i].final_position\n",
    "    # corners edges orientation\n",
    "    for i in range(1, 13):\n",
    "        compressed <<= 1\n",
    "        compressed |= state.edges[i].orientation\n",
    "    return str(compressed)\n",
    "\n",
    "forbidden_move = {\n",
    "    1: [1, 7, 13],\n",
    "    7: [1, 7, 13],\n",
    "    13: [1, 7, 13],\n",
    "    4: [4, 10, 16],\n",
    "    10: [4, 10, 16],\n",
    "    16: [4, 10, 16],\n",
    "    14: [14],\n",
    "    15: [15],\n",
    "    17: [17],\n",
    "    18: [18],\n",
    "}\n",
    "\n",
    "def invert(move):\n",
    "    return forbidden_move[move]"
   ]
  },
  {
   "cell_type": "code",
   "execution_count": 58,
   "metadata": {},
   "outputs": [],
   "source": [
    "def gen_pruning(dico, curr_node, heuristic, depth, move):\n",
    "    if depth < 5:\n",
    "        next_depth = []\n",
    "        for elem in get_nexts_2(curr_node):\n",
    "            if elem.instruction not in move:\n",
    "                dico[compress_state(elem)] = heuristic(elem)\n",
    "                next_depth.append(elem)\n",
    "        for elem in next_depth:\n",
    "            gen_pruning(dico, elem, heuristic, depth + 1, forbidden_move[elem.instruction])"
   ]
  },
  {
   "cell_type": "code",
   "execution_count": 59,
   "metadata": {},
   "outputs": [],
   "source": [
    "dico = {}\n",
    "rubik = Rubik()\n",
    "dep = rubik_state(rubik, 0)\n",
    "gen_pruning(dico, dep, rubik.heuristic_h2, 0, [0])"
   ]
  },
  {
   "cell_type": "code",
   "execution_count": 60,
   "metadata": {},
   "outputs": [
    {
     "data": {
      "text/plain": [
       "25349"
      ]
     },
     "execution_count": 60,
     "metadata": {},
     "output_type": "execute_result"
    }
   ],
   "source": [
    "len(dico)"
   ]
  },
  {
   "cell_type": "code",
   "execution_count": 62,
   "metadata": {},
   "outputs": [],
   "source": [
    "import pandas as pd\n",
    "\n",
    "pruning_table = {}\n",
    "pruning_table[\"pruning\"] = dico\n",
    "df = pd.DataFrame.from_dict(pruning_table)\n",
    "df.to_hdf(\"phase2.h5\", key=\"df\", complevel=9, complib='blosc:lz4')"
   ]
  },
  {
   "cell_type": "code",
   "execution_count": null,
   "metadata": {},
   "outputs": [],
   "source": []
  },
  {
   "cell_type": "code",
   "execution_count": null,
   "metadata": {},
   "outputs": [],
   "source": []
  }
 ],
 "metadata": {
  "kernelspec": {
   "display_name": "Python 3",
   "language": "python",
   "name": "python3"
  },
  "language_info": {
   "codemirror_mode": {
    "name": "ipython",
    "version": 3
   },
   "file_extension": ".py",
   "mimetype": "text/x-python",
   "name": "python",
   "nbconvert_exporter": "python",
   "pygments_lexer": "ipython3",
   "version": "3.7.3"
  }
 },
 "nbformat": 4,
 "nbformat_minor": 2
}
