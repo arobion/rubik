{
 "cells": [
  {
   "cell_type": "code",
   "execution_count": 4,
   "metadata": {},
   "outputs": [],
   "source": [
    "from rubik_cubes import Rubik, rubik_corner, rubik_edge"
   ]
  },
  {
   "cell_type": "code",
   "execution_count": 5,
   "metadata": {},
   "outputs": [],
   "source": [
    "rubik = Rubik()"
   ]
  },
  {
   "cell_type": "code",
   "execution_count": 5,
   "metadata": {},
   "outputs": [
    {
     "name": "stdout",
     "output_type": "stream",
     "text": [
      "coins:\n",
      "\t4  1\t8  5\n",
      "\t U\t D\n",
      "\t3  2\t7  6\n",
      "aretes:\n",
      "    1        8  5        9\n",
      "   4  2                12  10\n",
      "    3        7  6        11\n",
      "\n"
     ]
    }
   ],
   "source": [
    "print(rubik)"
   ]
  },
  {
   "cell_type": "code",
   "execution_count": 12,
   "metadata": {},
   "outputs": [],
   "source": []
  },
  {
   "cell_type": "code",
   "execution_count": 24,
   "metadata": {},
   "outputs": [
    {
     "name": "stdout",
     "output_type": "stream",
     "text": [
      "coins:\n",
      "\t4  1\t8  5\n",
      "\t U\t D\n",
      "\t3  2\t7  6\n",
      "aretes:\n",
      "    1        8  5        9\n",
      "   4  2                12  10\n",
      "    3        7  6        11\n",
      "\n",
      "-------------------------------------------------------\n",
      "coins:\n",
      "\t5  8\t1  4\n",
      "\t U\t D\n",
      "\t3  2\t7  6\n",
      "aretes:\n",
      "    9        5  8        1\n",
      "   4  2                12  10\n",
      "    3        7  6        11\n",
      "\n",
      "orientation = 0\n",
      "final_position = 2\n",
      "\n",
      "orientation = 0\n",
      "final_position = 3\n",
      "\n",
      "orientation = 0\n",
      "final_position = 6\n",
      "\n",
      "orientation = 0\n",
      "final_position = 7\n",
      "\n",
      "\n",
      "\n",
      "orientation = 0\n",
      "final_position = 3\n",
      "\n",
      "orientation = 0\n",
      "final_position = 6\n",
      "\n",
      "orientation = 0\n",
      "final_position = 7\n",
      "\n",
      "orientation = 0\n",
      "final_position = 11\n",
      "\n"
     ]
    }
   ],
   "source": [
    "rubik = Rubik()\n",
    "print(rubik)\n",
    "print(\"-------------------------------------------------------\")\n",
    "rubik.move(18)\n",
    "print(rubik)\n",
    "print(rubik.corners[2])\n",
    "print(rubik.corners[3])\n",
    "print(rubik.corners[6])\n",
    "print(rubik.corners[7])\n",
    "print(\"\\n\")\n",
    "print(rubik.edges[3])\n",
    "print(rubik.edges[6])\n",
    "print(rubik.edges[7])\n",
    "print(rubik.edges[11])\n"
   ]
  },
  {
   "cell_type": "code",
   "execution_count": null,
   "metadata": {},
   "outputs": [],
   "source": []
  },
  {
   "cell_type": "code",
   "execution_count": null,
   "metadata": {},
   "outputs": [],
   "source": []
  }
 ],
 "metadata": {
  "kernelspec": {
   "display_name": "Python 3",
   "language": "python",
   "name": "python3"
  },
  "language_info": {
   "codemirror_mode": {
    "name": "ipython",
    "version": 3
   },
   "file_extension": ".py",
   "mimetype": "text/x-python",
   "name": "python",
   "nbconvert_exporter": "python",
   "pygments_lexer": "ipython3",
   "version": "3.7.1"
  }
 },
 "nbformat": 4,
 "nbformat_minor": 2
}
