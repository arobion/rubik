{
 "cells": [
  {
   "cell_type": "code",
   "execution_count": 1,
   "metadata": {},
   "outputs": [],
   "source": [
    "import time\n",
    "from math import floor\n",
    "from rubik_cubes import Rubik, rubik_corner, rubik_edge\n",
    "from rubik_state import rubik_state\n",
    "from rubik_next import get_nexts_1, get_nexts_2\n",
    "from rubik_file import RubikFile\n",
    "from rubik_ida import IDA\n",
    "from itertools import permutations\n",
    "import copy"
   ]
  },
  {
   "cell_type": "code",
   "execution_count": 2,
   "metadata": {},
   "outputs": [],
   "source": [
    "rubikfile = RubikFile(\"test.h5\")\n",
    "rubik = Rubik()"
   ]
  },
  {
   "cell_type": "code",
   "execution_count": 3,
   "metadata": {},
   "outputs": [],
   "source": [
    "# solved = rubik_state(rubik, 0, rubik.heuristic_h1)"
   ]
  },
  {
   "cell_type": "code",
   "execution_count": 38,
   "metadata": {},
   "outputs": [],
   "source": [
    "def brute_force_co(save, solved):\n",
    "    current = solved\n",
    "    save[current.corners_state] = current.g\n",
    "    queue = [current]\n",
    "    \n",
    "    while len(queue):\n",
    "        current = queue.pop(0)\n",
    "        for elem in get_nexts_1(current, null_h):\n",
    "            if elem.corners_state not in save.keys():\n",
    "                save[elem.corners_state] = elem.g\n",
    "                queue.append(elem)\n",
    "\n",
    "def brute_force_eo(save, solved):\n",
    "    current = solved\n",
    "    save[current.edges_state] = current.g\n",
    "    queue = [current]\n",
    "    \n",
    "    while len(queue):\n",
    "        current = queue.pop(0)\n",
    "        for elem in get_nexts_1(current, null_h):\n",
    "            if elem.edges_state not in save.keys():\n",
    "                save[elem.edges_state] = elem.g\n",
    "                queue.append(elem)\n",
    "\n",
    "def brute_force_slice(save, solved):\n",
    "    current = solved\n",
    "    perm = permutations([5, 6, 7, 8])\n",
    "    queue = [current]\n",
    "    for elem in perm:\n",
    "        new_dep = copy.deepcopy(solved)\n",
    "        for i in range(5, 9):\n",
    "            new_dep.corners[i].position = elem[i - 5]\n",
    "        queue.append(new_dep)\n",
    "        new_dep.slice_state = elem\n",
    "        save[new_dep.slice_state] = 0\n",
    "    save[current.slice_state] = current.g\n",
    "    while len(queue):\n",
    "        current = queue.pop(0)\n",
    "        for elem in get_nexts_1(current, null_h):\n",
    "            if elem.slice_state not in save.keys():\n",
    "                save[elem.slice_state] = elem.g\n",
    "                queue.append(elem)\n",
    "\n",
    "def null_h(obj):\n",
    "    return 0"
   ]
  },
  {
   "cell_type": "code",
   "execution_count": 36,
   "metadata": {},
   "outputs": [],
   "source": [
    "solved = rubik_state(rubik, 0, null_h)\n",
    "save_slice = {}\n",
    "brute_force_slice(save_slice, solved)"
   ]
  },
  {
   "cell_type": "code",
   "execution_count": 39,
   "metadata": {},
   "outputs": [],
   "source": [
    "solved = rubik_state(rubik, 0, null_h)\n",
    "save_co = {}\n",
    "brute_force_co(save_co, solved)"
   ]
  },
  {
   "cell_type": "code",
   "execution_count": 40,
   "metadata": {},
   "outputs": [],
   "source": [
    "solved = rubik_state(rubik, 0, null_h)\n",
    "save_eo = {}\n",
    "brute_force_eo(save_eo, solved)"
   ]
  },
  {
   "cell_type": "code",
   "execution_count": 41,
   "metadata": {},
   "outputs": [
    {
     "name": "stdout",
     "output_type": "stream",
     "text": [
      "4.459076360310928\n",
      "2187\n",
      "4.60888671875\n",
      "2048\n",
      "5.491237882177479\n",
      "10728\n"
     ]
    }
   ],
   "source": [
    "print(sum([i for i in save_co.values()]) / len(save_co))\n",
    "print(len(save_co))\n",
    "print(sum([i for i in save_eo.values()]) / len(save_eo))\n",
    "print(len(save_eo))\n",
    "print(sum([i for i in save_slice.values()]) / len(save_slice))\n",
    "print(len(save_slice))"
   ]
  },
  {
   "cell_type": "code",
   "execution_count": 43,
   "metadata": {},
   "outputs": [
    {
     "name": "stdout",
     "output_type": "stream",
     "text": [
      "Writing...\n",
      "Write done\n"
     ]
    }
   ],
   "source": [
    "rubikfile = RubikFile(\"pruning_phase_1.h5\")\n",
    "rubikfile.write(\"corners\", save_co)"
   ]
  },
  {
   "cell_type": "code",
   "execution_count": 44,
   "metadata": {},
   "outputs": [
    {
     "name": "stdout",
     "output_type": "stream",
     "text": [
      "Writing...\n",
      "Write done\n"
     ]
    }
   ],
   "source": [
    "rubikfile.write(\"edges\", save_eo)"
   ]
  },
  {
   "cell_type": "code",
   "execution_count": 45,
   "metadata": {},
   "outputs": [
    {
     "name": "stdout",
     "output_type": "stream",
     "text": [
      "Writing...\n",
      "Write done\n"
     ]
    }
   ],
   "source": [
    "rubikfile.write(\"slice\", save_slice)"
   ]
  },
  {
   "cell_type": "code",
   "execution_count": 2,
   "metadata": {},
   "outputs": [],
   "source": [
    "# phase two generator, to be reworked\n",
    "def compress_state(state):\n",
    "    compressed = 0\n",
    "    # first compress corners place\n",
    "    for i in range(1, 9):\n",
    "        compressed <<= 3\n",
    "        compressed |= (state.corners[i].final_position - 1)\n",
    "    # compress corners orientation\n",
    "    for i in range(1, 9):\n",
    "        compressed <<= 2\n",
    "        compressed |= state.corners[i].orientation\n",
    "    # compress edges place\n",
    "    for i in range(1, 13):\n",
    "        compressed <<= 4\n",
    "        compressed |= state.edges[i].final_position\n",
    "    # corners edges orientation\n",
    "    for i in range(1, 13):\n",
    "        compressed <<= 1\n",
    "        compressed |= state.edges[i].orientation\n",
    "    return str(compressed)\n",
    "\n",
    "def gen_pruning(dico, curr_node, depth, h):\n",
    "    if depth < 9:\n",
    "        next_depth = []\n",
    "        for elem in get_nexts_2(curr_node, h):\n",
    "            cp = compress_state(elem)\n",
    "            if cp not in dico.keys():\n",
    "                dico[cp] = depth + 1\n",
    "                next_depth.append(elem)\n",
    "            elif dico[cp] > depth + 1:\n",
    "                dico[cp] = depth + 1\n",
    "        for elem in next_depth:\n",
    "            gen_pruning(dico, elem, depth + 1, h)\n",
    "\n",
    "dico = {}\n",
    "rubik = Rubik()\n",
    "dep = rubik_state(rubik, 0, rubik.heuristic_h2)\n",
    "dico[compress_state(dep)] = 0\n",
    "\n",
    "start = time.time()\n",
    "gen_pruning(dico, dep, 0, rubik.heuristic_h2)\n",
    "print(time.time() - start)\n",
    "print(len(dico))"
   ]
  },
  {
   "cell_type": "code",
   "execution_count": 26,
   "metadata": {},
   "outputs": [
    {
     "data": {
      "text/plain": [
       "546292"
      ]
     },
     "execution_count": 26,
     "metadata": {},
     "output_type": "execute_result"
    }
   ],
   "source": [
    "rubikfile.write(\"phase2\", dico)\n",
    "\n",
    "pruning_phase2 = rubikfile.read(\"phase2\")\n",
    "len(pruning_phase2)"
   ]
  },
  {
   "cell_type": "code",
   "execution_count": null,
   "metadata": {},
   "outputs": [],
   "source": [
    "# def heuristic_corners_orientation(obj):\n",
    "#     tot = 0\n",
    "#     for elem in obj.corners.keys():\n",
    "#         if obj.corners[elem].orientation != 0:\n",
    "#             tot += 1\n",
    "#     return tot / 4\n",
    "# def transform_number_in_base_x_tab(nb, base, len_tab):\n",
    "#     tab = []\n",
    "#     for i in range(0, len_tab):\n",
    "#         tab.insert(0, nb % base)\n",
    "#         nb = floor(nb / base)\n",
    "#     return tab\n",
    "\n",
    "# def check_parity(tab, base):\n",
    "#     if sum(tab) % 3 == 0:\n",
    "#         return True\n",
    "#     return False\n",
    "\n",
    "# def modify_orientation(state, tab):\n",
    "#     for i in range(len(tab)):\n",
    "#         state.corners[i + 1].orientation = tab[i]"
   ]
  },
  {
   "cell_type": "code",
   "execution_count": 16,
   "metadata": {},
   "outputs": [
    {
     "data": {
      "text/plain": [
       "(6, 5, 7, 8)"
      ]
     },
     "execution_count": 16,
     "metadata": {},
     "output_type": "execute_result"
    }
   ],
   "source": [
    "solved = rubik_state(solved, 14, null_h)\n",
    "tuple([elem[1].final_position for elem in solved.edges.items() if elem[0] in [5, 6, 7, 8]])"
   ]
  },
  {
   "cell_type": "code",
   "execution_count": 17,
   "metadata": {},
   "outputs": [
    {
     "data": {
      "text/plain": [
       "(6, 5, 7, 8)"
      ]
     },
     "execution_count": 17,
     "metadata": {},
     "output_type": "execute_result"
    }
   ],
   "source": [
    "tuple([solved.edges[i].final_position for i in range(5, 9)])"
   ]
  },
  {
   "cell_type": "code",
   "execution_count": 20,
   "metadata": {},
   "outputs": [
    {
     "name": "stdout",
     "output_type": "stream",
     "text": [
      "2.0992629528045654\n"
     ]
    }
   ],
   "source": [
    "start = time.time()\n",
    "for i in range(0, 1000000):\n",
    "    tmp = tuple([elem[1].final_position for elem in solved.edges.items() if elem[0] in [5, 6, 7, 8]])\n",
    "print(time.time() - start)"
   ]
  },
  {
   "cell_type": "code",
   "execution_count": 19,
   "metadata": {},
   "outputs": [
    {
     "name": "stdout",
     "output_type": "stream",
     "text": [
      "(5, 6, 7, 8)\n",
      "inst: None\n",
      "eo: 0 0 0 0 0 0 0 0 0 0 0 0 \n",
      "ep: 1 2 3 4 5 6 7 8 9 10 11 12 \n",
      "co: 0 0 0 0 0 0 0 0 \n",
      "cp: 1 2 3 4 5 6 7 8 \n",
      "(5, 6, 8, 7)\n",
      "inst: None\n",
      "eo: 0 0 0 0 0 0 0 0 0 0 0 0 \n",
      "ep: 1 2 3 4 5 6 8 7 9 10 11 12 \n",
      "co: 0 0 0 0 0 0 0 0 \n",
      "cp: 1 2 3 4 5 6 7 8 \n",
      "(5, 7, 6, 8)\n",
      "inst: None\n",
      "eo: 0 0 0 0 0 0 0 0 0 0 0 0 \n",
      "ep: 1 2 3 4 5 7 6 8 9 10 11 12 \n",
      "co: 0 0 0 0 0 0 0 0 \n",
      "cp: 1 2 3 4 5 6 7 8 \n",
      "(5, 7, 8, 6)\n",
      "inst: None\n",
      "eo: 0 0 0 0 0 0 0 0 0 0 0 0 \n",
      "ep: 1 2 3 4 5 7 8 6 9 10 11 12 \n",
      "co: 0 0 0 0 0 0 0 0 \n",
      "cp: 1 2 3 4 5 6 7 8 \n",
      "(5, 8, 6, 7)\n",
      "inst: None\n",
      "eo: 0 0 0 0 0 0 0 0 0 0 0 0 \n",
      "ep: 1 2 3 4 5 8 6 7 9 10 11 12 \n",
      "co: 0 0 0 0 0 0 0 0 \n",
      "cp: 1 2 3 4 5 6 7 8 \n",
      "(5, 8, 7, 6)\n",
      "inst: None\n",
      "eo: 0 0 0 0 0 0 0 0 0 0 0 0 \n",
      "ep: 1 2 3 4 5 8 7 6 9 10 11 12 \n",
      "co: 0 0 0 0 0 0 0 0 \n",
      "cp: 1 2 3 4 5 6 7 8 \n",
      "(6, 5, 7, 8)\n",
      "inst: None\n",
      "eo: 0 0 0 0 0 0 0 0 0 0 0 0 \n",
      "ep: 1 2 3 4 6 5 7 8 9 10 11 12 \n",
      "co: 0 0 0 0 0 0 0 0 \n",
      "cp: 1 2 3 4 5 6 7 8 \n",
      "(6, 5, 8, 7)\n",
      "inst: None\n",
      "eo: 0 0 0 0 0 0 0 0 0 0 0 0 \n",
      "ep: 1 2 3 4 6 5 8 7 9 10 11 12 \n",
      "co: 0 0 0 0 0 0 0 0 \n",
      "cp: 1 2 3 4 5 6 7 8 \n",
      "(6, 7, 5, 8)\n",
      "inst: None\n",
      "eo: 0 0 0 0 0 0 0 0 0 0 0 0 \n",
      "ep: 1 2 3 4 6 7 5 8 9 10 11 12 \n",
      "co: 0 0 0 0 0 0 0 0 \n",
      "cp: 1 2 3 4 5 6 7 8 \n",
      "(6, 7, 8, 5)\n",
      "inst: None\n",
      "eo: 0 0 0 0 0 0 0 0 0 0 0 0 \n",
      "ep: 1 2 3 4 6 7 8 5 9 10 11 12 \n",
      "co: 0 0 0 0 0 0 0 0 \n",
      "cp: 1 2 3 4 5 6 7 8 \n",
      "(6, 8, 5, 7)\n",
      "inst: None\n",
      "eo: 0 0 0 0 0 0 0 0 0 0 0 0 \n",
      "ep: 1 2 3 4 6 8 5 7 9 10 11 12 \n",
      "co: 0 0 0 0 0 0 0 0 \n",
      "cp: 1 2 3 4 5 6 7 8 \n",
      "(6, 8, 7, 5)\n",
      "inst: None\n",
      "eo: 0 0 0 0 0 0 0 0 0 0 0 0 \n",
      "ep: 1 2 3 4 6 8 7 5 9 10 11 12 \n",
      "co: 0 0 0 0 0 0 0 0 \n",
      "cp: 1 2 3 4 5 6 7 8 \n",
      "(7, 5, 6, 8)\n",
      "inst: None\n",
      "eo: 0 0 0 0 0 0 0 0 0 0 0 0 \n",
      "ep: 1 2 3 4 7 5 6 8 9 10 11 12 \n",
      "co: 0 0 0 0 0 0 0 0 \n",
      "cp: 1 2 3 4 5 6 7 8 \n",
      "(7, 5, 8, 6)\n",
      "inst: None\n",
      "eo: 0 0 0 0 0 0 0 0 0 0 0 0 \n",
      "ep: 1 2 3 4 7 5 8 6 9 10 11 12 \n",
      "co: 0 0 0 0 0 0 0 0 \n",
      "cp: 1 2 3 4 5 6 7 8 \n",
      "(7, 6, 5, 8)\n",
      "inst: None\n",
      "eo: 0 0 0 0 0 0 0 0 0 0 0 0 \n",
      "ep: 1 2 3 4 7 6 5 8 9 10 11 12 \n",
      "co: 0 0 0 0 0 0 0 0 \n",
      "cp: 1 2 3 4 5 6 7 8 \n",
      "(7, 6, 8, 5)\n",
      "inst: None\n",
      "eo: 0 0 0 0 0 0 0 0 0 0 0 0 \n",
      "ep: 1 2 3 4 7 6 8 5 9 10 11 12 \n",
      "co: 0 0 0 0 0 0 0 0 \n",
      "cp: 1 2 3 4 5 6 7 8 \n",
      "(7, 8, 5, 6)\n",
      "inst: None\n",
      "eo: 0 0 0 0 0 0 0 0 0 0 0 0 \n",
      "ep: 1 2 3 4 7 8 5 6 9 10 11 12 \n",
      "co: 0 0 0 0 0 0 0 0 \n",
      "cp: 1 2 3 4 5 6 7 8 \n",
      "(7, 8, 6, 5)\n",
      "inst: None\n",
      "eo: 0 0 0 0 0 0 0 0 0 0 0 0 \n",
      "ep: 1 2 3 4 7 8 6 5 9 10 11 12 \n",
      "co: 0 0 0 0 0 0 0 0 \n",
      "cp: 1 2 3 4 5 6 7 8 \n",
      "(8, 5, 6, 7)\n",
      "inst: None\n",
      "eo: 0 0 0 0 0 0 0 0 0 0 0 0 \n",
      "ep: 1 2 3 4 8 5 6 7 9 10 11 12 \n",
      "co: 0 0 0 0 0 0 0 0 \n",
      "cp: 1 2 3 4 5 6 7 8 \n",
      "(8, 5, 7, 6)\n",
      "inst: None\n",
      "eo: 0 0 0 0 0 0 0 0 0 0 0 0 \n",
      "ep: 1 2 3 4 8 5 7 6 9 10 11 12 \n",
      "co: 0 0 0 0 0 0 0 0 \n",
      "cp: 1 2 3 4 5 6 7 8 \n",
      "(8, 6, 5, 7)\n",
      "inst: None\n",
      "eo: 0 0 0 0 0 0 0 0 0 0 0 0 \n",
      "ep: 1 2 3 4 8 6 5 7 9 10 11 12 \n",
      "co: 0 0 0 0 0 0 0 0 \n",
      "cp: 1 2 3 4 5 6 7 8 \n",
      "(8, 6, 7, 5)\n",
      "inst: None\n",
      "eo: 0 0 0 0 0 0 0 0 0 0 0 0 \n",
      "ep: 1 2 3 4 8 6 7 5 9 10 11 12 \n",
      "co: 0 0 0 0 0 0 0 0 \n",
      "cp: 1 2 3 4 5 6 7 8 \n",
      "(8, 7, 5, 6)\n",
      "inst: None\n",
      "eo: 0 0 0 0 0 0 0 0 0 0 0 0 \n",
      "ep: 1 2 3 4 8 7 5 6 9 10 11 12 \n",
      "co: 0 0 0 0 0 0 0 0 \n",
      "cp: 1 2 3 4 5 6 7 8 \n",
      "(8, 7, 6, 5)\n",
      "inst: None\n",
      "eo: 0 0 0 0 0 0 0 0 0 0 0 0 \n",
      "ep: 1 2 3 4 8 7 6 5 9 10 11 12 \n",
      "co: 0 0 0 0 0 0 0 0 \n",
      "cp: 1 2 3 4 5 6 7 8 \n"
     ]
    }
   ],
   "source": [
    "perm = permutations([5, 6, 7, 8])\n",
    "for elem in perm:\n",
    "    new_dep = copy.deepcopy(solved)\n",
    "    for i in range(5, 9):\n",
    "        new_dep.edges[i].final_position = elem[i - 5]\n",
    "    print(elem)\n",
    "    print(new_dep)"
   ]
  },
  {
   "cell_type": "code",
   "execution_count": 11,
   "metadata": {},
   "outputs": [
    {
     "name": "stdout",
     "output_type": "stream",
     "text": [
      "(5, 6, 7, 8)\n",
      "(5, 6, 8, 7)\n",
      "(5, 7, 6, 8)\n",
      "(5, 7, 8, 6)\n",
      "(5, 8, 6, 7)\n",
      "(5, 8, 7, 6)\n",
      "(6, 5, 7, 8)\n",
      "(6, 5, 8, 7)\n",
      "(6, 7, 5, 8)\n",
      "(6, 7, 8, 5)\n",
      "(6, 8, 5, 7)\n",
      "(6, 8, 7, 5)\n",
      "(7, 5, 6, 8)\n",
      "(7, 5, 8, 6)\n",
      "(7, 6, 5, 8)\n",
      "(7, 6, 8, 5)\n",
      "(7, 8, 5, 6)\n",
      "(7, 8, 6, 5)\n",
      "(8, 5, 6, 7)\n",
      "(8, 5, 7, 6)\n",
      "(8, 6, 5, 7)\n",
      "(8, 6, 7, 5)\n",
      "(8, 7, 5, 6)\n",
      "(8, 7, 6, 5)\n"
     ]
    }
   ],
   "source": []
  },
  {
   "cell_type": "code",
   "execution_count": null,
   "metadata": {},
   "outputs": [],
   "source": []
  }
 ],
 "metadata": {
  "kernelspec": {
   "display_name": "Python 3",
   "language": "python",
   "name": "python3"
  },
  "language_info": {
   "codemirror_mode": {
    "name": "ipython",
    "version": 3
   },
   "file_extension": ".py",
   "mimetype": "text/x-python",
   "name": "python",
   "nbconvert_exporter": "python",
   "pygments_lexer": "ipython3",
   "version": "3.7.3"
  }
 },
 "nbformat": 4,
 "nbformat_minor": 2
}
