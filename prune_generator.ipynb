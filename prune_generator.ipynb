{
 "cells": [
  {
   "cell_type": "code",
   "execution_count": 2,
   "metadata": {},
   "outputs": [],
   "source": [
    "from rubik_cubes import Rubik, rubik_corner, rubik_edge\n",
    "from rubik_state import rubik_state\n",
    "from rubik_next import get_nexts_2"
   ]
  },
  {
   "cell_type": "code",
   "execution_count": 3,
   "metadata": {},
   "outputs": [],
   "source": [
    "def compress_state(state):\n",
    "    compressed = 0\n",
    "    # first compress corners place\n",
    "    for i in range(1, 9):\n",
    "        compressed <<= 3\n",
    "        compressed |= state.corners[i].final_position\n",
    "    # compress corners orientation\n",
    "    for i in range(1, 9):\n",
    "        compressed <<= 2\n",
    "        compressed |= state.corners[i].orientation\n",
    "    # compress edges place\n",
    "    for i in range(1, 13):\n",
    "        compressed <<= 4\n",
    "        compressed |= state.edges[i].final_position\n",
    "    # corners edges orientation\n",
    "    for i in range(1, 13):\n",
    "        compressed <<= 1\n",
    "        compressed |= state.edges[i].orientation\n",
    "    return str(compressed)\n",
    "\n",
    "# forbidden_move = {\n",
    "#     0: [0],\n",
    "#     1: [1, 7, 13],\n",
    "#     7: [1, 7, 13],\n",
    "#     13: [1, 7, 13],\n",
    "#     4: [4, 10, 16],\n",
    "#     10: [4, 10, 16],\n",
    "#     16: [4, 10, 16],\n",
    "#     14: [14],\n",
    "#     15: [15],\n",
    "#     17: [17],\n",
    "#     18: [18],\n",
    "# }\n",
    "\n",
    "# def get_nexts_2(state):\n",
    "#     nexts = []\n",
    "# #     for i in [13, 14, 15, 16, 17, 18, 1, 4, 7, 10]:\n",
    "# #         next = rubik_state(state, i)\n",
    "# #         nexts.append(next)\n",
    "#     return [rubik_state(state, i) for i in [13, 14, 15, 16, 17, 18, 1, 4, 7, 10] if i not in forbidden_move[state.instruction]]\n"
   ]
  },
  {
   "cell_type": "code",
   "execution_count": 4,
   "metadata": {},
   "outputs": [],
   "source": [
    "def gen_pruning(dico, curr_node, depth):\n",
    "    if depth < 7:\n",
    "        next_depth = []\n",
    "        for elem in get_nexts_2(curr_node):\n",
    "            dico[compress_state(elem)] = depth\n",
    "            next_depth.append(elem)\n",
    "        for elem in next_depth:\n",
    "            gen_pruning(dico, elem, depth + 1)"
   ]
  },
  {
   "cell_type": "code",
   "execution_count": 5,
   "metadata": {},
   "outputs": [
    {
     "name": "stdout",
     "output_type": "stream",
     "text": [
      "737.7944841384888\n"
     ]
    }
   ],
   "source": [
    "dico = {}\n",
    "rubik = Rubik()\n",
    "#state = rubik_state(rubik, 0)\n",
    "# state2 = rubik_state(state, 1)\n",
    "# for elem in get_nexts_2(state2):\n",
    "#     print(elem.instruction)\n",
    "dep = rubik_state(rubik, 0)\n",
    "\n",
    "import time\n",
    "start = time.time()\n",
    "gen_pruning(dico, dep, 0)\n",
    "print(time.time() - start)"
   ]
  },
  {
   "cell_type": "code",
   "execution_count": 13,
   "metadata": {},
   "outputs": [
    {
     "data": {
      "text/plain": [
       "1082328"
      ]
     },
     "execution_count": 13,
     "metadata": {},
     "output_type": "execute_result"
    }
   ],
   "source": [
    "len(dico)"
   ]
  },
  {
   "cell_type": "code",
   "execution_count": 9,
   "metadata": {},
   "outputs": [],
   "source": [
    "from rubik_file import RubikFile"
   ]
  },
  {
   "cell_type": "code",
   "execution_count": 15,
   "metadata": {},
   "outputs": [
    {
     "name": "stdout",
     "output_type": "stream",
     "text": [
      "Writing...\n",
      "Write done\n"
     ]
    }
   ],
   "source": [
    "rubikfile = RubikFile(\"pruning_tables.h5\")\n",
    "rubikfile.write(\"phase2\", dico)"
   ]
  },
  {
   "cell_type": "code",
   "execution_count": 11,
   "metadata": {},
   "outputs": [],
   "source": [
    "pruning_phase2 = rubikfile.read(\"phase2\")"
   ]
  },
  {
   "cell_type": "code",
   "execution_count": 12,
   "metadata": {},
   "outputs": [
    {
     "data": {
      "text/plain": [
       "1082328"
      ]
     },
     "execution_count": 12,
     "metadata": {},
     "output_type": "execute_result"
    }
   ],
   "source": [
    "len(pruning_phase2)"
   ]
  },
  {
   "cell_type": "code",
   "execution_count": null,
   "metadata": {},
   "outputs": [],
   "source": []
  }
 ],
 "metadata": {
  "kernelspec": {
   "display_name": "Python 3",
   "language": "python",
   "name": "python3"
  },
  "language_info": {
   "codemirror_mode": {
    "name": "ipython",
    "version": 3
   },
   "file_extension": ".py",
   "mimetype": "text/x-python",
   "name": "python",
   "nbconvert_exporter": "python",
   "pygments_lexer": "ipython3",
   "version": "3.7.3"
  }
 },
 "nbformat": 4,
 "nbformat_minor": 2
}
