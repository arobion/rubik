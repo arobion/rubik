{
 "cells": [
  {
   "cell_type": "code",
   "execution_count": 1,
   "metadata": {},
   "outputs": [],
   "source": [
    "from rubik_cubes import Rubik, rubik_corner, rubik_edge"
   ]
  },
  {
   "cell_type": "code",
   "execution_count": 2,
   "metadata": {},
   "outputs": [],
   "source": [
    "rubik = Rubik()"
   ]
  },
  {
   "cell_type": "code",
   "execution_count": 3,
   "metadata": {},
   "outputs": [],
   "source": [
    "print(rubik)"
   ]
  },
  {
   "cell_type": "code",
   "execution_count": 4,
   "metadata": {},
   "outputs": [],
   "source": [
    "def heuristic_manhattan(self):\n",
    "    tot = 0\n",
    "    for index in self.corners:\n",
    "        tot += self.manhattan_dist[\"corner\"][index][self.corners[index].final_position]\n",
    "    for index in self.edges:\n",
    "        tot += self.manhattan_dist[\"edge\"][index][self.edges[index].final_position]\n",
    "    return tot"
   ]
  },
  {
   "cell_type": "code",
   "execution_count": 6,
   "metadata": {},
   "outputs": [],
   "source": [
    "rubik = Rubik()\n",
    "rubik.move(rubik.get_num_by_notation(\"F\"))\n",
    "rubik.move(rubik.get_num_by_notation(\"R\"))\n",
    "rubik.move(rubik.get_num_by_notation(\"U'\"))\n",
    "rubik.move(rubik.get_num_by_notation(\"R'\"))\n",
    "rubik.move(rubik.get_num_by_notation(\"U'\"))\n",
    "rubik.move(rubik.get_num_by_notation(\"R\"))\n",
    "rubik.move(rubik.get_num_by_notation(\"U\"))\n",
    "rubik.move(rubik.get_num_by_notation(\"R'\"))\n",
    "rubik.move(rubik.get_num_by_notation(\"F'\"))\n",
    "rubik.move(rubik.get_num_by_notation(\"R\"))\n",
    "rubik.move(rubik.get_num_by_notation(\"U\"))\n",
    "rubik.move(rubik.get_num_by_notation(\"R'\"))\n",
    "rubik.move(rubik.get_num_by_notation(\"U'\"))\n",
    "rubik.move(rubik.get_num_by_notation(\"R'\"))\n",
    "rubik.move(rubik.get_num_by_notation(\"F\"))\n",
    "rubik.move(rubik.get_num_by_notation(\"R\"))\n",
    "rubik.move(rubik.get_num_by_notation(\"F'\"))"
   ]
  },
  {
   "cell_type": "code",
   "execution_count": 7,
   "metadata": {},
   "outputs": [
    {
     "name": "stdout",
     "output_type": "stream",
     "text": [
      "1.5\n",
      "coins:\n",
      "\t2  1\t8  5\n",
      "\t U\t D\n",
      "\t3  4\t7  6\n",
      "aretes:\n",
      "    4        8  5        9\n",
      "   1  2                12  10\n",
      "    3        7  6        11\n",
      "\n"
     ]
    }
   ],
   "source": [
    "print(heuristic_manhattan(rubik))\n",
    "print(rubik)"
   ]
  },
  {
   "cell_type": "code",
   "execution_count": null,
   "metadata": {},
   "outputs": [],
   "source": [
    "F R U' R' U' R U R' F' R U R' U' R' F R F'"
   ]
  }
 ],
 "metadata": {
  "kernelspec": {
   "display_name": "Python 3",
   "language": "python",
   "name": "python3"
  },
  "language_info": {
   "codemirror_mode": {
    "name": "ipython",
    "version": 3
   },
   "file_extension": ".py",
   "mimetype": "text/x-python",
   "name": "python",
   "nbconvert_exporter": "python",
   "pygments_lexer": "ipython3",
   "version": "3.7.1"
  }
 },
 "nbformat": 4,
 "nbformat_minor": 2
}
