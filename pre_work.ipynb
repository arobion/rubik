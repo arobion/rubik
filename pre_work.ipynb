{
 "cells": [
  {
   "cell_type": "code",
   "execution_count": 1,
   "metadata": {},
   "outputs": [],
   "source": [
    "from rubik_cubes import Rubik, rubik_corner, rubik_edge"
   ]
  },
  {
   "cell_type": "code",
   "execution_count": 2,
   "metadata": {},
   "outputs": [],
   "source": [
    "rubik = Rubik()"
   ]
  },
  {
   "cell_type": "code",
   "execution_count": 3,
   "metadata": {},
   "outputs": [
    {
     "name": "stdout",
     "output_type": "stream",
     "text": [
      "coins:\n",
      "\t4  1\t8  5\n",
      "\t U\t D\n",
      "\t3  2\t7  6\n",
      "aretes:\n",
      "    1        8  5        9\n",
      "   4  2                12  10\n",
      "    3        7  6        11\n",
      "\n"
     ]
    }
   ],
   "source": [
    "print(rubik)"
   ]
  },
  {
   "cell_type": "markdown",
   "metadata": {},
   "source": [
    "U = 1\n",
    "\n",
    "R = 2\n",
    "\n",
    "L = 3\n",
    "\n",
    "D = 4\n",
    "\n",
    "F = 5\n",
    "\n",
    "B = 6\n",
    "\n",
    "U' = 7\n",
    "\n",
    "R' = 8\n",
    "\n",
    "L' = 9\n",
    "\n",
    "D' = 10\n",
    "\n",
    "F' = 11\n",
    "\n",
    "B' = 12\n",
    "\n",
    "U2 = 13\n",
    "\n",
    "R2 = 14\n",
    "\n",
    "L2 = 15\n",
    "\n",
    "D2 = 16\n",
    "\n",
    "F2 = 17\n",
    "\n",
    "B2 = 18"
   ]
  },
  {
   "cell_type": "code",
   "execution_count": 29,
   "metadata": {},
   "outputs": [],
   "source": [
    "def move(rubik, instruction):\n",
    "    #U\n",
    "    #corner: 1 2 3 4, edges: 1 2 3 4\n",
    "    if instruction == 1:\n",
    "        rubik.corners[1], rubik.corners[2], rubik.corners[3], rubik.corners[4] = rubik.corners[4], rubik.corners[1], rubik.corners[2], rubik.corners[3]\n",
    "        rubik.edges[1], rubik.edges[2], rubik.edges[3], rubik.edges[4] = rubik.edges[4], rubik.edges[1], rubik.edges[2], rubik.edges[3]\n",
    "    #R\n",
    "    #corner: 1 5 6 2, edges: 2 5 10 6\n",
    "    elif instruction == 2:\n",
    "        rubik.corners[1], rubik.corners[5], rubik.corners[6], rubik.corners[2] = rubik.corners[2], rubik.corners[1], rubik.corners[5], rubik.corners[6]\n",
    "        rubik.edges[2], rubik.edges[5], rubik.edges[10], rubik.edges[6] = rubik.edges[6], rubik.edges[2], rubik.edges[5], rubik.edges[10]\n",
    "    #L\n",
    "    #corner: 4 3 7 8, edges: 4 7 12 8\n",
    "    elif instruction == 3:\n",
    "        rubik.corners[4], rubik.corners[3], rubik.corners[7], rubik.corners[8] = rubik.corners[8], rubik.corners[4], rubik.corners[3], rubik.corners[7]\n",
    "        rubik.edges[4], rubik.edges[7], rubik.edges[12], rubik.edges[8] = rubik.edges[8], rubik.edges[4], rubik.edges[7], rubik.edges[12]\n",
    "    #D\n",
    "    #corner: 5 8 7 6, edges: 9 12 11 10\n",
    "    elif instruction == 4:\n",
    "        rubik.corners[5], rubik.corners[8], rubik.corners[7], rubik.corners[6] = rubik.corners[6], rubik.corners[5], rubik.corners[8], rubik.corners[7]\n",
    "        rubik.edges[9], rubik.edges[12], rubik.edges[11], rubik.edges[10] = rubik.edges[10], rubik.edges[9], rubik.edges[12], rubik.edges[11]\n",
    "    #F\n",
    "    #corner: 3 2 6 7, edges: 3 6 11 7\n",
    "    elif instruction == 5:\n",
    "        rubik.corners[3], rubik.corners[2], rubik.corners[6], rubik.corners[7] = rubik.corners[7], rubik.corners[3], rubik.corners[2], rubik.corners[6]\n",
    "        rubik.edges[3], rubik.edges[6], rubik.edges[11], rubik.edges[7] = rubik.edges[7], rubik.edges[3], rubik.edges[6], rubik.edges[11]\n",
    "    #B\n",
    "    #corner: 1 4 8 5, edges: 1 8 9 5\n",
    "    elif instruction == 6:\n",
    "        rubik.corners[1], rubik.corners[4], rubik.corners[8], rubik.corners[5] = rubik.corners[5], rubik.corners[1], rubik.corners[4], rubik.corners[8]\n",
    "        rubik.edges[1], rubik.edges[8], rubik.edges[9], rubik.edges[5] = rubik.edges[5], rubik.edges[1], rubik.edges[8], rubik.edges[9]\n",
    "    #U'\n",
    "    #corner: 4 3 2 1, edges: 4 3 2 1\n",
    "    elif instruction == 7:\n",
    "        rubik.corners[4], rubik.corners[3], rubik.corners[2], rubik.corners[1] = rubik.corners[1], rubik.corners[4], rubik.corners[3], rubik.corners[2]\n",
    "        rubik.edges[4], rubik.edges[3], rubik.edges[2], rubik.edges[1] = rubik.edges[1], rubik.edges[4], rubik.edges[3], rubik.edges[2]\n",
    "    #R'\n",
    "    #corner: 2 6 5 1, edges: 6 10 5 2\n",
    "    elif instruction == 8:\n",
    "        rubik.corners[2], rubik.corners[6], rubik.corners[5], rubik.corners[1] = rubik.corners[1], rubik.corners[2], rubik.corners[6], rubik.corners[5]\n",
    "        rubik.edges[6], rubik.edges[10], rubik.edges[5], rubik.edges[2] = rubik.edges[2], rubik.edges[6], rubik.edges[10], rubik.edges[5]\n",
    "    #L'\n",
    "    #corner: 8 7 3 4, edges: 8 12 7 4\n",
    "    elif instruction == 9:\n",
    "        rubik.corners[8], rubik.corners[7], rubik.corners[3], rubik.corners[4] = rubik.corners[4], rubik.corners[8], rubik.corners[7], rubik.corners[3]\n",
    "        rubik.edges[8], rubik.edges[12], rubik.edges[7], rubik.edges[4] = rubik.edges[4], rubik.edges[8], rubik.edges[12], rubik.edges[7]\n",
    "    #D'\n",
    "    #corner: 6 7 8 5, edges: 10 11 12 9\n",
    "    elif instruction == 10:\n",
    "        rubik.corners[6], rubik.corners[7], rubik.corners[8], rubik.corners[5] = rubik.corners[5], rubik.corners[6], rubik.corners[7], rubik.corners[8]\n",
    "        rubik.edges[10], rubik.edges[11], rubik.edges[12], rubik.edges[9] = rubik.edges[9], rubik.edges[10], rubik.edges[11], rubik.edges[12]\n",
    "    #F'\n",
    "    #corner:7 6 2 3, edges: 7 11 6 3\n",
    "    elif instruction == 11:\n",
    "        rubik.corners[7], rubik.corners[6], rubik.corners[2], rubik.corners[3] = rubik.corners[3], rubik.corners[7], rubik.corners[6], rubik.corners[2]\n",
    "        rubik.edges[7], rubik.edges[11], rubik.edges[6], rubik.edges[3] = rubik.edges[3], rubik.edges[7], rubik.edges[11], rubik.edges[6]\n",
    "    #B'\n",
    "    #corner: 5 8 4 1, edges: 5 9 8 1\n",
    "    elif instruction == 12:\n",
    "        rubik.corners[5], rubik.corners[8], rubik.corners[4], rubik.corners[1] = rubik.corners[1], rubik.corners[5], rubik.corners[8], rubik.corners[4]\n",
    "        rubik.edges[5], rubik.edges[9], rubik.edges[8], rubik.edges[1] = rubik.edges[1], rubik.edges[5], rubik.edges[9], rubik.edges[8]\n",
    "    #U2\n",
    "    #corner: 1-3 4-2, edges: 1-3 4-2\n",
    "    elif instruction == 13:\n",
    "        rubik.corners[1], rubik.corners[3], rubik.corners[4], rubik.corners[2] = rubik.corners[3], rubik.corners[1], rubik.corners[2], rubik.corners[4]\n",
    "        rubik.edges[1], rubik.edges[3], rubik.edges[4], rubik.edges[2] = rubik.edges[3], rubik.edges[1], rubik.edges[4], rubik.edges[2]\n",
    "    #R2\n",
    "    #corner: 1-6 2-5, edges: 2-10 5-6\n",
    "    elif instruction == 14:\n",
    "        rubik.corners[1], rubik.corners[6], rubik.corners[2], rubik.corners[5] = rubik.corners[6], rubik.corners[1], rubik.corners[5], rubik.corners[2]\n",
    "        rubik.edges[2], rubik.edges[10], rubik.edges[5], rubik.edges[6] = rubik.edges[10], rubik.edges[2], rubik.edges[6], rubik.edges[5]\n",
    "    #L2\n",
    "    #corner: 4-7 3-8, edges: 4-12 7-8\n",
    "    elif instruction == 15:\n",
    "        rubik.corners[4], rubik.corners[7], rubik.corners[3], rubik.corners[8] = rubik.corners[7], rubik.corners[4], rubik.corners[8], rubik.corners[3]\n",
    "        rubik.edges[4], rubik.edges[12], rubik.edges[7], rubik.edges[8] = rubik.edges[12], rubik.edges[4], rubik.edges[8], rubik.edges[7]\n",
    "    #D2\n",
    "    #corner: 5-7 6-8, edges: 9-11 10-12\n",
    "    elif instruction == 16:\n",
    "        rubik.corners[5], rubik.corners[7], rubik.corners[6], rubik.corners[8] = rubik.corners[7], rubik.corners[5], rubik.corners[8], rubik.corners[6]\n",
    "        rubik.edges[9], rubik.edges[11], rubik.edges[10], rubik.edges[12] = rubik.edges[11], rubik.edges[9], rubik.edges[12], rubik.edges[10]\n",
    "    #F2\n",
    "    #corner: 2-7 3-6, edges: 3-11 6-7\n",
    "    elif instruction == 17:\n",
    "        rubik.corners[2], rubik.corners[7], rubik.corners[3], rubik.corners[6] = rubik.corners[7], rubik.corners[2], rubik.corners[6], rubik.corners[3]\n",
    "        rubik.edges[3], rubik.edges[11], rubik.edges[6], rubik.edges[7] = rubik.edges[11], rubik.edges[3], rubik.edges[7], rubik.edges[6]\n",
    "    #B2\n",
    "    #corner: 1-8 4-5, edges: 1-9 5-8\n",
    "    elif instruction == 18:\n",
    "        rubik.corners[1], rubik.corners[8], rubik.corners[4], rubik.corners[5] = rubik.corners[8], rubik.corners[1], rubik.corners[5], rubik.corners[4]\n",
    "        rubik.edges[1], rubik.edges[9], rubik.edges[5], rubik.edges[8] = rubik.edges[9], rubik.edges[1], rubik.edges[8], rubik.edges[5]"
   ]
  },
  {
   "cell_type": "code",
   "execution_count": 34,
   "metadata": {},
   "outputs": [
    {
     "name": "stdout",
     "output_type": "stream",
     "text": [
      "coins:\n",
      "\t4  1\t8  5\n",
      "\t U\t D\n",
      "\t3  2\t7  6\n",
      "aretes:\n",
      "    1        8  5        9\n",
      "   4  2                12  10\n",
      "    3        7  6        11\n",
      "\n",
      "-------------------------------------------------------\n",
      "coins:\n",
      "\t5  8\t1  4\n",
      "\t U\t D\n",
      "\t3  2\t7  6\n",
      "aretes:\n",
      "    9        5  8        1\n",
      "   4  2                12  10\n",
      "    3        7  6        11\n",
      "\n"
     ]
    }
   ],
   "source": [
    "rubik = Rubik()\n",
    "print(rubik)\n",
    "print(\"-------------------------------------------------------\")\n",
    "move(rubik, 18)\n",
    "print(rubik)"
   ]
  },
  {
   "cell_type": "code",
   "execution_count": null,
   "metadata": {},
   "outputs": [],
   "source": []
  }
 ],
 "metadata": {
  "kernelspec": {
   "display_name": "Python 3",
   "language": "python",
   "name": "python3"
  },
  "language_info": {
   "codemirror_mode": {
    "name": "ipython",
    "version": 3
   },
   "file_extension": ".py",
   "mimetype": "text/x-python",
   "name": "python",
   "nbconvert_exporter": "python",
   "pygments_lexer": "ipython3",
   "version": "3.7.1"
  }
 },
 "nbformat": 4,
 "nbformat_minor": 2
}
